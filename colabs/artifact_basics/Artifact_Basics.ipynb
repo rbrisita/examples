{
  "cells": [
    {
      "cell_type": "markdown",
      "metadata": {
        "id": "gsp5VlKQVMud"
      },
      "source": [
        "<a href=\"https://colab.research.google.com/github/wandb/examples/blob/master/colabs/pytorch/Simple_PyTorch_Integration.ipynb\" target=\"_parent\"><img src=\"https://colab.research.google.com/assets/colab-badge.svg\" alt=\"Open In Colab\"/></a>\n",
        "<!--- @wandbcode{pytorch-video} -->"
      ]
    },
    {
      "cell_type": "markdown",
      "metadata": {
        "id": "TbzoV1XvVMug"
      },
      "source": [
        "<img src=\"http://wandb.me/logo-im-png\" width=\"400\" alt=\"Weights & Biases\" />\n",
        "\n",
        "<!--- @wandbcode{pytorch-video} -->\n"
      ]
    },
    {
      "cell_type": "markdown",
      "metadata": {
        "id": "MGA0PLfsVMuh"
      },
      "source": [
        "\n",
        "Use [Weights & Biases](https://wandb.com) for machine learning experiment tracking, dataset versioning, and project collaboration.\n",
        "\n",
        "<div><img /></div>\n",
        "\n",
        "<img src=\"https://wandb.me/mini-diagram\" width=\"650\" alt=\"Weights & Biases\" />\n",
        "\n",
        "<div><img /></div>\n",
        "\n"
      ]
    },
    {
      "cell_type": "markdown",
      "metadata": {
        "id": "11CLrFgFExMe"
      },
      "source": [
        "\n",
        "Use W&B Artifacts to track and version data as the inputs and outputs of your W&B Runs. For example, a model training run might take in a dataset as input and trained model as output. In addition to logging hyperparameters and metadata to a run, you can use an artifact to log the dataset used to train the model as input and the resulting model checkpoints as outputs."
      ]
    },
    {
      "cell_type": "markdown",
      "metadata": {
        "id": "dX5cFz_XCd5h"
      },
      "source": [
        "# Set Up"
      ]
    },
    {
      "cell_type": "markdown",
      "metadata": {
        "id": "q2EeMdcpC7Dl"
      },
      "source": [
        "In order to log data to our web service, you need to log in and import `wandb`. If this is your first time using W&B, you'll need to sign up for a free account at the link that appears."
      ]
    },
    {
      "cell_type": "code",
      "execution_count": null,
      "metadata": {
        "id": "nwEF5d7NChdB"
      },
      "outputs": [],
      "source": [
        "!pip install wandb\n",
        "import wandb\n",
        "wandb.login()"
      ]
    },
    {
      "cell_type": "markdown",
      "metadata": {
        "id": "vp9Zhzp5Hvt1"
      },
      "source": [
        "# Create An Artifact"
      ]
    },
    {
      "cell_type": "markdown",
      "metadata": {
        "id": "3xEsZzOEnPFY"
      },
      "source": [
        "The general workflow for creating an Artifact is:\n",
        "\n",
        "\n",
        "1.   Intialize a run.\n",
        "2.   Create an Artifact.\n",
        "3.   Add a dataset, a model, or another Artifact as an input.\n",
        "4.   Log the artifact in the W&B platform.\n",
        "\n",
        "This can by accomplished in two lines of code:"
      ]
    },
    {
      "cell_type": "code",
      "execution_count": null,
      "metadata": {
        "id": "Vndk289hgVVK"
      },
      "outputs": [],
      "source": [
        "run = wandb.init(project=\"artifact-basics\")\n",
        "run.log_artifact(artifact_or_path=\"/content/sample_data/mnist_test.csv\", name=\"my_first_artifact\", type=\"dataset\")\n",
        "run.finish()"
      ]
    },
    {
      "cell_type": "markdown",
      "metadata": {
        "id": "tgzxAogXnwCj"
      },
      "source": [
        "First, initalize the run with `wandb.init()`. In this demo, the code adds the run to the `artifact-basic` project, but you can change the name to anyting you'd like.\n",
        "\n",
        "Next, log the artifact with `wandb.artifact()`. In this demo, the artifact is a `dataset` using data from `mnist_test.csv`. You can customize your artifact with a `name` and other metadata- see the Artifacts Reference guide for more information.\n",
        "\n",
        "\n",
        "If you change or add any parameters names, be sure to replicate those changes in the following code samples as well."
      ]
    },
    {
      "cell_type": "markdown",
      "metadata": {
        "id": "bpGidixAICM1"
      },
      "source": [
        "# Use an Artifact"
      ]
    },
    {
      "cell_type": "markdown",
      "metadata": {
        "id": "jZC69sSMdX4j"
      },
      "source": [
        "When you need to select a particular Artifact, indicate the artifact you want to use with the `use_artifact` method. This returns a run object. In the proceeding code snippet specifies an artifact called `my_first_artifact` with the alias `latest`:\n"
      ]
    },
    {
      "cell_type": "code",
      "execution_count": null,
      "metadata": {
        "id": "7Ix_ciolJICe"
      },
      "outputs": [],
      "source": [
        "run = wandb.init(project=\"artifact-basics\")\n",
        "artifact = run.use_artifact(artifact_or_name=\"my_first_artifact:latest\")\n",
        "run.finish()"
      ]
    },
    {
      "cell_type": "markdown",
      "metadata": {
        "id": "u60Orwg5sYuI"
      },
      "source": []
    },
    {
      "cell_type": "markdown",
      "metadata": {},
      "source": [
        "# Change an Artifact"
      ]
    },
    {
      "cell_type": "markdown",
      "metadata": {},
      "source": [
        "When you need add a new file, you can use the `artifact.add_file` method."
      ]
    },
    {
      "cell_type": "code",
      "execution_count": null,
      "metadata": {},
      "outputs": [],
      "source": [
        "run = wandb.init(project=\"artifact-basics\")\n",
        "artifact = run.use_artifact(artifact_or_name=\"my_first_artifact:latest\") # selects the artifact you're adding the file to\n",
        "artifact.add_file(local_path=\"/content/sample_data/california_housing_test.csv\", name=\"new_file\")\n",
        "run.finish()"
      ]
    },
    {
      "cell_type": "markdown",
      "metadata": {},
      "source": [
        "This adds a new .csv file called `new_file` to the `my_first_artifact` Artifact. \n",
        "\n",
        "Optionally, you can choose to add an entire directory to an Artifact:"
      ]
    },
    {
      "cell_type": "code",
      "execution_count": null,
      "metadata": {},
      "outputs": [],
      "source": [
        "run = wandb.init(project=\"artifact-basics\")\n",
        "artifact = run.use_artifact(artifact_or_name=\"my_first_artifact:latest\") # selects the artifact you're adding the file to\n",
        "artifact.add_dir(local_path=\"/content/sample_data\", name=\"new_directory\")\n",
        "run.finish()"
      ]
    },
    {
      "cell_type": "markdown",
      "metadata": {},
      "source": [
        "This adds an entire folder with several .csv files to your Artifact.\n",
        "\n",
        "To save your changes, you'll need to `log` them, which is covered in the next section."
      ]
    },
    {
      "cell_type": "markdown",
      "metadata": {
        "id": "AyANijPlIN5m"
      },
      "source": [
        "# Update an Artifact"
      ]
    },
    {
      "cell_type": "markdown",
      "metadata": {
        "id": "e4psfYzGeAVS"
      },
      "source": [
        "You can pass new values to update the `description`, `metadata`, and `alias` of an artifact. Call the `save()` method to update the artifact on the W&B servers. You can update an artifact during or outside a W&B Run.\n",
        "\n",
        "\n",
        "This example changes the `description` of the `my_first_artifact` artifact inside a run:"
      ]
    },
    {
      "cell_type": "code",
      "execution_count": null,
      "metadata": {
        "id": "16fCvZUZJD29"
      },
      "outputs": [],
      "source": [
        "run = wandb.init(project=\"artifact-basics\")\n",
        "artifact = run.use_artifact(artifact_or_name=\"my_first_artifact:latest\")\n",
        "artifact.description = \"This is an edited description.\"\n",
        "artifact.save()\n",
        "run.finish()"
      ]
    },
    {
      "cell_type": "markdown",
      "metadata": {
        "id": "o-rcMsZYh0Ig"
      },
      "source": [
        "# Download an Artifact"
      ]
    },
    {
      "cell_type": "markdown",
      "metadata": {
        "id": "B2ssTI7LrHS8"
      },
      "source": [
        "To retrieve the path of an Artifact for external use, use the `artifact.download()` method. This will retrieve the directory of an Artifact you select."
      ]
    },
    {
      "cell_type": "code",
      "execution_count": null,
      "metadata": {
        "id": "18-7Kd9Oh8cl"
      },
      "outputs": [],
      "source": [
        "run = wandb.init(project=\"artifact-basics\")\n",
        "artifact = run.use_artifact(artifact_or_name=\"my_first_artifact:latest\")\n",
        "# downloads the artifact to a directory on the W&B platform.\n",
        "datadir = artifact.download()\n",
        "run.finish()\n",
        "# prints the current artifact directory\n",
        "print(u'\\u2500' * 10)\n",
        "print(\"Data directory located at:\" + datadir)"
      ]
    },
    {
      "cell_type": "markdown",
      "metadata": {
        "id": "sxox0H9grrcx"
      },
      "source": [
        "For more information on ways to customize your Artifact download, see the [Download and Usage guide](https://docs.wandb.ai/guides/artifacts/download-and-use-an-artifact)."
      ]
    },
    {
      "cell_type": "markdown",
      "metadata": {},
      "source": [
        "# Navigate the Artifacts UI"
      ]
    },
    {
      "cell_type": "markdown",
      "metadata": {},
      "source": [
        "You can also manage your Artifacts via the W&B platform. This can give you insight into your model's performance or dataset versioning. To navigate to the relevant informationm, click this [link](https://wandb.ai/wandb/artifact-basics/overview), then click on the **Artifacts** tab."
      ]
    },
    {
      "cell_type": "markdown",
      "metadata": {
        "id": "b6F6b6XHVMus"
      },
      "source": [
        "# Next steps\n",
        "1. [Artifacts reference documentation](https://docs.wandb.ai/ref/python/artifact): Deep dive into artifact parameters and advanced methods.\n",
        "2. [Traversing Artifacts](https://docs.wandb.ai/guides/artifacts/explore-and-traverse-an-artifact-graph): Tips on how to work with Artifacts on W&B's web platform.\n",
        "3. [Model Registry](https://docs.wandb.ai/guides/model_registry): Learn how to centralize your best artifact versions in a shared registry.\n",
        "4. [Artifact Automation](https://docs.wandb.ai/guides/artifacts/project-scoped-automations): Automate downstream actions for versioning artifacts.\n",
        "5. [Artifacts FAQ](https://docs.wandb.ai/guides/artifacts/artifacts-faqs): Frequently asked questions on Artifact security, workflows, and retention policy."
      ]
    }
  ],
  "metadata": {
    "accelerator": "GPU",
    "colab": {
      "provenance": []
    },
    "kernelspec": {
      "display_name": "Python 3",
      "name": "python3"
    }
  },
  "nbformat": 4,
  "nbformat_minor": 0
}
