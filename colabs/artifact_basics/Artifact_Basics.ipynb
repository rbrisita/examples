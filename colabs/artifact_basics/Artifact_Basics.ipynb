{
  "cells": [
    {
      "cell_type": "markdown",
      "metadata": {
        "id": "gsp5VlKQVMud"
      },
      "source": [
        "<a href=\"https://colab.research.google.com/github/wandb/examples/blob/master/colabs/pytorch/Artifacts_Basics.ipynb\" target=\"_parent\"><img src=\"https://colab.research.google.com/assets/colab-badge.svg\" alt=\"Open In Colab\"/></a>\n",
        "<!--- @wandbcode{artifacts-basics} -->"
      ]
    },
    {
      "cell_type": "markdown",
      "metadata": {
        "id": "TbzoV1XvVMug"
      },
      "source": [
        "<img src=\"http://wandb.me/logo-im-png\" width=\"400\" alt=\"Weights & Biases\" />\n",
        "\n",
        "<!--- @wandbcode{pytorch-video} -->\n"
      ]
    },
    {
      "cell_type": "markdown",
      "metadata": {
        "id": "MGA0PLfsVMuh"
      },
      "source": [
        "\n",
        "Use [Weights & Biases](https://wandb.com) for machine learning experiment tracking, dataset and model versioning and management, collaboration and more.\n",
        "\n",
        "<div><img /></div>\n",
        "\n",
        "<img src=\"https://wandb.me/mini-diagram\" width=\"650\" alt=\"Weights & Biases\" />\n",
        "\n",
        "<div><img /></div>\n",
        "\n"
      ]
    },
    {
      "cell_type": "markdown",
      "metadata": {
        "id": "11CLrFgFExMe"
      },
      "source": [
        "\n",
        "Use W&B Artifacts to track and version data as the inputs and outputs of your W&B Runs. For example, a model training run might take in a dataset as input and produce a trained model as output. In addition to logging hyperparameters, metadata, and metrics to a run, you can use an artifact to log the dataset used to train the model as input and the resulting model checkpoints as outputs."
      ]
    },
    {
      "cell_type": "markdown",
      "metadata": {
        "id": "dX5cFz_XCd5h"
      },
      "source": [
        "# Set Up"
      ]
    },
    {
      "cell_type": "markdown",
      "metadata": {
        "id": "q2EeMdcpC7Dl"
      },
      "source": [
        "In order to log to W&B, you will need the `wandb` package installed and imported into your script or notebook. If you are not already authenticated or signed up, a link will appear which you can use to do so."
      ]
    },
    {
      "cell_type": "code",
      "execution_count": null,
      "metadata": {
        "id": "nwEF5d7NChdB"
      },
      "outputs": [],
      "source": [
        "!pip install wandb\n",
        "import wandb\n",
        "wandb.login()"
      ]
    },
    {
      "cell_type": "markdown",
      "metadata": {
        "id": "vp9Zhzp5Hvt1"
      },
      "source": [
        "# Create An Artifact"
      ]
    },
    {
      "cell_type": "markdown",
      "metadata": {
        "id": "3xEsZzOEnPFY"
      },
      "source": [
        "The general workflow for creating an Artifact is:\n",
        "\n",
        "\n",
        "1.   Intialize a run.\n",
        "2.   Create an Artifact.\n",
        "3.   Add a dataset, model, another Artifact or any files or directories to the new Artifact that you want to track and version.\n",
        "4.   Log the artifact in the W&B platform.\n",
        "\n",
        "This can by accomplished with a few lines of code:"
      ]
    },
    {
      "cell_type": "code",
      "execution_count": null,
      "metadata": {
        "id": "Vndk289hgVVK"
      },
      "outputs": [],
      "source": [
        "run = wandb.init(project=\"artifact-basics\")\n",
        "run.log_artifact(artifact_or_path=\"/content/sample_data/mnist_test.csv\", name=\"my_first_artifact\", type=\"dataset\")\n",
        "run.finish()"
      ]
    },
    {
      "cell_type": "markdown",
      "metadata": {
        "id": "tgzxAogXnwCj"
      },
      "source": [
        "First, initalize the run with [`wandb.init()`](https://docs.wandb.ai/ref/python/init). In this demo, the code adds the run to the `artifact-basic` project, but you can change the name to anyting you'd like.\n",
        "\n",
        "Next, log the Artifact with [`run.log_artifact()`](https://docs.wandb.ai/ref/python/public-api/run#log_artifact). In this demo, the Artifact is a `dataset` using data from `mnist_test.csv`. You can customize your Artifact with a `name` and other metadata- see the Artifacts Reference guide for more information.\n",
        "\n",
        "\n",
        "If you change or add any argument names, be sure to replicate those changes in the following code samples as well."
      ]
    },
    {
      "cell_type": "markdown",
      "metadata": {
        "id": "bpGidixAICM1"
      },
      "source": [
        "# Use an Artifact"
      ]
    },
    {
      "cell_type": "markdown",
      "metadata": {
        "id": "jZC69sSMdX4j"
      },
      "source": [
        "When you want to use a specific version of an Artifact in a downstream task, you can specify the specific version you would like to use via either `v0`, `v1`, `v2` and so on, or via specific aliases you may have added. The `latest` alias always refers to the most recent version of the Artifact logged.\n",
        "\n",
        "The proceeding code snippet specifies an artifact called `my_first_artifact` with the alias `latest`:\n"
      ]
    },
    {
      "cell_type": "code",
      "execution_count": null,
      "metadata": {
        "id": "7Ix_ciolJICe"
      },
      "outputs": [],
      "source": [
        "run = wandb.init(project=\"artifact-basic\")\n",
        "artifact = run.use_artifact(artifact_or_name=\"my_first_artifact:latest\")\n",
        "run.finish()"
      ]
    },
    {
      "cell_type": "markdown",
      "metadata": {
        "id": "u60Orwg5sYuI"
      },
      "source": []
    },
    {
      "cell_type": "markdown",
      "metadata": {},
      "source": [
        "# Create a new Artifact version"
      ]
    },
    {
      "cell_type": "markdown",
      "metadata": {},
      "source": [
        "When you need add a new file, you can use the [`artifact.add_file`](https://docs.wandb.ai/ref/python/artifact#add_file) method."
      ]
    },
    {
      "cell_type": "code",
      "execution_count": null,
      "metadata": {},
      "outputs": [],
      "source": [
        "run = wandb.init(project=\"artifact-basics\")\n",
        "artifact = run.use_artifact(\"my_first_artifact:latest\") # selects the artifact you're adding the file to\n",
        "artifact.add_file(local_path=\"/content/sample_data/california_housing_test.csv\", name=\"new_file\")\n",
        "run.log_artifact(artifact)\n",
        "run.finish()"
      ]
    },
    {
      "cell_type": "markdown",
      "metadata": {},
      "source": [
        "This adds a new .csv file called `new_file` to the `my_first_artifact` Artifact. \n",
        "\n",
        "If you edit a file, you'll need to go through a similar process:"
      ]
    },
    {
      "cell_type": "code",
      "execution_count": null,
      "metadata": {},
      "outputs": [],
      "source": [
        "# sorts the .csv file\n",
        "import pandas\n",
        "csvData = pandas.read_csv(\"/content/sample_data/california_housing_test.csv\") \n",
        "csvData.sort_values(csvData.columns[6],  \n",
        "                    axis=0, \n",
        "                    inplace=True)\n",
        "csvData.to_csv(\"/content/sample_data/california_housing_test.csv\") # overwrites file with the sorted data\n",
        "# adds the new file to the artifact\n",
        "run = wandb.init(project=\"artifact-basics\")\n",
        "artifact = run.use_artifact(\"my_first_artifact:latest\")\n",
        "artifact.add_file(local_path=\"/content/sample_data/california_housing_test.csv\", name=\"sorted_file\")\n",
        "run.log_artifact(artifact, aliases= [\"sorted\"]) # logs the new artifact version, overwriting the old one.\n",
        "run.finish()\n"
      ]
    },
    {
      "cell_type": "markdown",
      "metadata": {},
      "source": [
        "Now the sorted file will be logged in `my_first_artifact`. Any changes you log to an artifact will overwrite any older version. \n",
        "\n",
        "The Artifact has also been given a custom `alias`, a label for this Artifact version. While the `alias` is currently `sorted`, the default aliases is `vN`, where `N` is the number of versions the Artifact has. This increments automatically."
      ]
    },
    {
      "cell_type": "markdown",
      "metadata": {},
      "source": []
    },
    {
      "cell_type": "markdown",
      "metadata": {
        "id": "AyANijPlIN5m"
      },
      "source": [
        "# Update Artifact version metadata"
      ]
    },
    {
      "cell_type": "markdown",
      "metadata": {
        "id": "e4psfYzGeAVS"
      },
      "source": [
        "You can update the `description`, `metadata`, and `alias` of an artifact on the W&B platform during or outside a W&B Run.\n",
        "\n",
        "\n",
        "This example changes the `description` of the `my_first_artifact` artifact inside a run:"
      ]
    },
    {
      "cell_type": "code",
      "execution_count": null,
      "metadata": {
        "id": "16fCvZUZJD29"
      },
      "outputs": [],
      "source": [
        "run = wandb.init(project=\"artifact-basics\")\n",
        "artifact = run.use_artifact(artifact_or_name=\"my_first_artifact:latest\")\n",
        "artifact.description = \"This is an edited description.\"\n",
        "artifact.save()  # persists changes to an Artifact's properties\n",
        "run.finish()"
      ]
    },
    {
      "cell_type": "markdown",
      "metadata": {
        "id": "o-rcMsZYh0Ig"
      },
      "source": [
        "# Download an Artifact"
      ]
    },
    {
      "cell_type": "markdown",
      "metadata": {
        "id": "B2ssTI7LrHS8"
      },
      "source": [
        "To retrieve the path of an Artifact for external use, use the [`artifact.download()`](https://docs.wandb.ai/ref/python/artifact#download) method. This will retrieve the directory of an Artifact you select."
      ]
    },
    {
      "cell_type": "code",
      "execution_count": null,
      "metadata": {
        "id": "18-7Kd9Oh8cl"
      },
      "outputs": [],
      "source": [
        "run = wandb.init(project=\"artifact-basics\")\n",
        "artifact = run.use_artifact(artifact_or_name=\"my_first_artifact:latest\")\n",
        "# This will download the specified artifact to where your code is running\n",
        "datadir = artifact.download()\n",
        "run.finish()\n",
        "# prints the path of the current artifact directory\n",
        "print(u'\\u2500' * 10)\n",
        "print(\"Data directory located at:\" + datadir)"
      ]
    },
    {
      "cell_type": "markdown",
      "metadata": {
        "id": "sxox0H9grrcx"
      },
      "source": [
        "For more information on ways to customize your Artifact download, see the [Download and Usage guide](https://docs.wandb.ai/guides/artifacts/download-and-use-an-artifact)."
      ]
    },
    {
      "cell_type": "markdown",
      "metadata": {},
      "source": [
        "# Navigate the Artifacts UI"
      ]
    },
    {
      "cell_type": "markdown",
      "metadata": {},
      "source": [
        "You can also manage your Artifacts via the W&B platform. This can give you insight into your model's performance or dataset versioning. To navigate to the relevant information, click this [link](https://wandb.ai/wandb/artifact-basics/overview), then click on the **Artifacts** tab.\n",
        "\n",
        "Navigating to the **Lineage** section in the tab will show the dependency graph formed by calling `run.use_artifact()` when an Artifact is an input to a run, and `run.log_artifact()` when an Artifact is output to a run. This helps visualize the relationship between different model versions and other objects like datasets and jobs in your project. Click [this](https://wandb.ai/wandb/artifact-basics/artifacts/dataset/my_first_artifact/v0/lineage) link to navigate to the project's lineage page."
      ]
    },
    {
      "cell_type": "markdown",
      "metadata": {
        "id": "b6F6b6XHVMus"
      },
      "source": [
        "# Next steps\n",
        "1. [Artifacts Python reference documentation](https://docs.wandb.ai/ref/python/artifact): Deep dive into artifact parameters and advanced methods.\n",
        "2. [Lineage](https://docs.wandb.ai/guides/artifacts/explore-and-traverse-an-artifact-graph): View lineage graphs, which are automatically built when using W&B artifact system, providing an auditable visual overview of the relationships between specific artifact versions, datasets models and runs.\n",
        "3. [Model Registry](https://docs.wandb.ai/guides/model_registry): Learn how to centralize your best artifact versions in a shared registry.\n",
        "4. [Artifact Automations](https://docs.wandb.ai/guides/artifacts/project-scoped-automations): Automatically run specific Weights & Biases jobs based on changes to your artifacts, such as automatically training a new model each time a new version of the training data is logged.\n",
        "5. [Reference Artifacts](https://docs.wandb.ai/guides/artifacts/track-external-files#download-a-reference-artifact): Track files saved outside the W&B server, like Amazon S3 buckets, GCS buckets, Azure blobs, and more. "
      ]
    }
  ],
  "metadata": {
    "accelerator": "GPU",
    "colab": {
      "provenance": []
    },
    "kernelspec": {
      "display_name": "Python 3",
      "name": "python3"
    }
  },
  "nbformat": 4,
  "nbformat_minor": 0
}
