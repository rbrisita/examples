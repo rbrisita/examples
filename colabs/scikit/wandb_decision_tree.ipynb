{
 "cells": [
  {
   "cell_type": "markdown",
   "metadata": {},
   "source": [
    "<a href=\"https://colab.research.google.com/github/wandb/examples/blob/master/colabs/scikit/wandb_decision_tree.ipynb\" target=\"_parent\"><img src=\"https://colab.research.google.com/assets/colab-badge.svg\" alt=\"Open In Colab\"/></a>\n"
   ]
  },
  {
   "cell_type": "markdown",
   "metadata": {},
   "source": [
    "## Author: [@SauravMaheshkar](https://twitter.com/MaheshkarSaurav)"
   ]
  },
  {
   "cell_type": "markdown",
   "metadata": {},
   "source": [
    "# Packages 📦 and Basic Setup\n",
    "---"
   ]
  },
  {
   "cell_type": "markdown",
   "metadata": {},
   "source": [
    "## Install Packages"
   ]
  },
  {
   "cell_type": "code",
   "execution_count": null,
   "metadata": {},
   "outputs": [],
   "source": [
    "%%capture\n",
    "## Install Sklearn\n",
    "!pip install -U scikit-learn\n",
    "## Install the latest version of wandb client 🔥🔥\n",
    "!pip install -q --upgrade wandb"
   ]
  },
  {
   "cell_type": "markdown",
   "metadata": {},
   "source": [
    "## Project Configuration using **`wandb.config`**"
   ]
  },
  {
   "cell_type": "code",
   "execution_count": null,
   "metadata": {},
   "outputs": [],
   "source": [
    "import wandb\n",
    "\n",
    "## Importing Libraries\n",
    "from sklearn.datasets import load_iris\n",
    "from sklearn.model_selection import train_test_split\n",
    "from sklearn.tree import DecisionTreeClassifier, DecisionTreeRegressor"
   ]
  },
  {
   "cell_type": "code",
   "execution_count": null,
   "metadata": {},
   "outputs": [],
   "source": [
    "wandb.login()"
   ]
  },
  {
   "cell_type": "code",
   "execution_count": null,
   "metadata": {},
   "outputs": [],
   "source": [
    "# Initialize the run\n",
    "run = wandb.init(project='simple-scikit')\n",
    "\n",
    "# Feel free to change these and experiment !!\n",
    "config = wandb.config\n",
    "config.max_depth = 5\n",
    "config.min_samples_split = 2\n",
    "config.clf_criterion = \"gini\"\n",
    "config.reg_criterion = \"mse\"\n",
    "config.splitter = \"best\"\n",
    "config.dataset = \"iris\"\n",
    "config.test_size = 0.2\n",
    "config.random_state = 42\n",
    "config.labels =['setosa', 'versicolor', 'virginica']\n",
    "\n",
    "# Update the config\n",
    "wandb.config.update(config)"
   ]
  },
  {
   "cell_type": "markdown",
   "metadata": {},
   "source": [
    "# 💿 Dataset\n",
    "---"
   ]
  },
  {
   "cell_type": "code",
   "execution_count": null,
   "metadata": {},
   "outputs": [],
   "source": [
    "## Loading the Dataset\n",
    "iris = load_iris(return_X_y = True, as_frame= True)\n",
    "dataset = iris[0]\n",
    "target = iris[1]"
   ]
  },
  {
   "cell_type": "markdown",
   "metadata": {},
   "source": [
    "# ✍️ Model Architecture\n",
    "---"
   ]
  },
  {
   "cell_type": "markdown",
   "metadata": {},
   "source": [
    "## Classification"
   ]
  },
  {
   "cell_type": "code",
   "execution_count": null,
   "metadata": {},
   "outputs": [],
   "source": [
    "X, y = load_iris(return_X_y=True)\n",
    "x_train, x_test, y_train, y_test = train_test_split(X, y, test_size = config.test_size, random_state = config.random_state)\n",
    "\n",
    "clf = DecisionTreeClassifier(\n",
    "    max_depth=config.max_depth,\n",
    "    min_samples_split=config.min_samples_split,\n",
    "    criterion=config.clf_criterion,\n",
    "    splitter=config.splitter\n",
    ")\n",
    "clf = clf.fit(x_train,y_train)\n",
    "\n",
    "y_pred = clf.predict(x_test)\n",
    "\n",
    "# Visualize Confustion Matrix\n",
    "wandb.sklearn.plot_confusion_matrix(y_test, y_pred, config.labels)"
   ]
  },
  {
   "cell_type": "markdown",
   "metadata": {},
   "source": [
    "## Regression"
   ]
  },
  {
   "cell_type": "code",
   "execution_count": null,
   "metadata": {},
   "outputs": [],
   "source": [
    "X, y = load_iris(return_X_y=True)\n",
    "\n",
    "x_train, x_test, y_train, y_test = train_test_split(X, y, test_size = config.test_size, random_state = config.random_state)\n",
    "\n",
    "reg = DecisionTreeRegressor(\n",
    "    max_depth=config.max_depth,\n",
    "    min_samples_split=config.min_samples_split,\n",
    "    criterion=config.reg_criterion,\n",
    "    splitter=config.splitter\n",
    ")\n",
    "\n",
    "reg = reg.fit(x_train,y_train)\n",
    "\n",
    "# All regression plots\n",
    "wandb.sklearn.plot_regressor(reg, x_train, x_test, y_train, y_test,  model_name='DecisionTreeRegressor')"
   ]
  },
  {
   "cell_type": "code",
   "execution_count": null,
   "metadata": {},
   "outputs": [],
   "source": [
    "# Finish the W&B Process\n",
    "wandb.finish()"
   ]
  }
 ],
 "metadata": {
  "accelerator": "GPU",
  "colab": {
   "include_colab_link": true,
   "provenance": [],
   "toc_visible": true
  },
  "kernelspec": {
   "display_name": "Python 3",
   "name": "python3"
  }
 },
 "nbformat": 4,
 "nbformat_minor": 0
}
